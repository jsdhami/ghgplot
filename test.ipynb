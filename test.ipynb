{
 "cells": [
  {
   "cell_type": "code",
   "execution_count": null,
   "metadata": {},
   "outputs": [],
   "source": [
    "from ghgplot import co2\n",
    "\n",
    "co2.welcome()"
   ]
  },
  {
   "cell_type": "markdown",
   "metadata": {},
   "source": [
    "The following code can be used for co2 air to sea flux for your desired locations.\\\n",
    "aiomap - area of interest map\\\n",
    "co2.aoimap(lat1,lon1,lat2,lon2,lat3,lon3,lat4,lon4) to select area of interest \\\n",
    "co2.flux - to compare flux between two dates. \\\n",
    "co2.print_stats(lat1,lon1,lat2,lon2,lat3,lon3,lat4,lon4,yyyymm) - to get more info about the flux exchange"
   ]
  },
  {
   "cell_type": "code",
   "execution_count": null,
   "metadata": {},
   "outputs": [],
   "source": [
    "#co2.aoimap(lat1,lon1,lat2,lon2,lat3,lon3,lat4,lon4)\n",
    "co2.aoimap(37.0,-123.0,37.0,-121.0,35.0,-121.0,35.0,-123.0)"
   ]
  },
  {
   "cell_type": "code",
   "execution_count": null,
   "metadata": {},
   "outputs": [],
   "source": [
    "#co2.print_stats(lat1,lon1,lat2,lon2,lat3,lon3,lat4,lon4,yyyymm)\n",
    "co2.print_stats(25, -95, 20, -75, 15, -60, 30, -80,202202)"
   ]
  },
  {
   "cell_type": "code",
   "execution_count": null,
   "metadata": {},
   "outputs": [],
   "source": [
    "#co2.time_series(lat1,lon1,lat2,lon2,lat3,lon3,lat4,lon4,)\n",
    "co2.time_series(37.0,-123.0,37.0,-121.0,35.0,-121.0,35.0,-123.0)"
   ]
  },
  {
   "cell_type": "code",
   "execution_count": null,
   "metadata": {},
   "outputs": [],
   "source": [
    "\n",
    "#co2.flux(YYYYMM,YYYYMM,lat,lon)\n",
    "co2.flux(20220404,20210401,19,88)"
   ]
  },
  {
   "cell_type": "markdown",
   "metadata": {},
   "source": [
    "The following code can be used for ch4 and co2 concentration\\\n",
    "site_code= station code of [NOAA Global Monitoring Laboratory](https://gml.noaa.gov/dv/site/?program=ccgg) \\\n",
    "conc.locate_site('ABP')  to get link which locate station \\\n",
    "conc.get_df_co2(site_code) to get datafarme which tells more about the co2 concentration\\\n",
    "conc.get_df_ch4('ABP') to get datafarme which tells more about the ch4 concentration\\\n",
    "conc.get_ch4_plot('ABP') to get timeseries plot of concentration value of ch4 in ppb\\\n",
    "conc.get_co2_plot('ABP') to get timeseries plot of concentration value of co2 in ppm\\"
   ]
  },
  {
   "cell_type": "code",
   "execution_count": null,
   "metadata": {},
   "outputs": [],
   "source": [
    "from ghgplot import conc"
   ]
  },
  {
   "cell_type": "code",
   "execution_count": null,
   "metadata": {},
   "outputs": [],
   "source": [
    "#ch4.site_code(gas_type)\n",
    "conc.site_code(co2)"
   ]
  },
  {
   "cell_type": "code",
   "execution_count": null,
   "metadata": {},
   "outputs": [],
   "source": [
    "#conc.locate_site(site_code)\n",
    "conc.locate_site('ABP')"
   ]
  },
  {
   "cell_type": "code",
   "execution_count": null,
   "metadata": {},
   "outputs": [],
   "source": [
    "#conc.get_df_co2(site_code)\n",
    "conc.get_df_co2('ABP')"
   ]
  },
  {
   "cell_type": "code",
   "execution_count": null,
   "metadata": {},
   "outputs": [],
   "source": [
    "#conc.get_df_ch4(site_code)\n",
    "conc.get_df_ch4('ABP')"
   ]
  },
  {
   "cell_type": "code",
   "execution_count": null,
   "metadata": {},
   "outputs": [],
   "source": [
    "#conc.concget_ch4_plot(site_code)\n",
    "conc.get_ch4_plot('ABP')"
   ]
  },
  {
   "cell_type": "code",
   "execution_count": null,
   "metadata": {},
   "outputs": [],
   "source": [
    "#conc.get_co2_plot(site_code)\n",
    "conc.get_co2_plot('ABP')"
   ]
  },
  {
   "cell_type": "markdown",
   "metadata": {},
   "source": [
    "The following code is for co mixing ratio\\\n",
    "#co.get_df(year, month, day) to get dataframe which tells more about the co mixing ratio \\\n",
    "count - choose any first number of values in the dataframe \\\n",
    "co.get_plot(year, month, day, pressure, count) to get dataframe which contains different co mixing ratio of different location at different pressure level \\\n",
    "co.get_plot(year, month, day, pressure, count) to get plot in globe where pressure is different pressure level\\\n",
    "co.get_plot_temp(year, month, day, count) to get retrived surface temperature on globe."
   ]
  },
  {
   "cell_type": "code",
   "execution_count": null,
   "metadata": {},
   "outputs": [],
   "source": [
    "from ghgplot import co"
   ]
  },
  {
   "cell_type": "code",
   "execution_count": null,
   "metadata": {},
   "outputs": [],
   "source": [
    "#co.get_df(year, month, day)\n",
    "co.get_df(2001, 3, 3)"
   ]
  },
  {
   "cell_type": "code",
   "execution_count": 2,
   "metadata": {},
   "outputs": [],
   "source": [
    "#co.get_plot(year, month, day, pressure, count)\n",
    "co.get_plot(2001,3,3,600,200)"
   ]
  },
  {
   "cell_type": "code",
   "execution_count": null,
   "metadata": {},
   "outputs": [],
   "source": [
    "#co.get_plot_temp(year, month, day, count)\n",
    "co.get_plot_temp(2001,3,3,600,200)"
   ]
  }
 ],
 "metadata": {
  "kernelspec": {
   "display_name": "Python 3",
   "language": "python",
   "name": "python3"
  },
  "language_info": {
   "codemirror_mode": {
    "name": "ipython",
    "version": 3
   },
   "file_extension": ".py",
   "mimetype": "text/x-python",
   "name": "python",
   "nbconvert_exporter": "python",
   "pygments_lexer": "ipython3",
   "version": "3.12.2"
  }
 },
 "nbformat": 4,
 "nbformat_minor": 2
}
